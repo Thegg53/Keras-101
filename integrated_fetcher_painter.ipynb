{
 "cells": [
  {
   "cell_type": "code",
   "execution_count": 2,
   "metadata": {
    "collapsed": false
   },
   "outputs": [],
   "source": [
    "import os\n",
    "import urllib2\n",
    "import re\n",
    "from os.path import basename\n",
    "from urlparse import urlsplit\n",
    "import Image\n",
    "import matplotlib\n",
    "\n",
    "\n",
    "#choose label\n",
    "label=1\n",
    "#choose url\n",
    "url= \"http://www.canstockphoto.pt/foto-imagens/salad.html#rows:100\"\n",
    "urlContent = urllib2.urlopen(url).read()\n",
    "imgUrls = re.findall('img .*?src=\"(.*?)\"', urlContent)\n",
    "\n",
    "# download all images\n",
    "for imgUrl in imgUrls:\n",
    "    try:\n",
    "        imgData = urllib2.urlopen(imgUrl).read()\n",
    "        fileName = basename(urlsplit(imgUrl)[2])\n",
    "        output = open(fileName,'wb')\n",
    "        output.write(imgData)\n",
    "        output.close()\n",
    "    except:\n",
    "        pass\n",
    "\n",
    "jpg_list=[]\n",
    "#list all files\n",
    "a=os.listdir('.')\n",
    "#select only jpeg files\n",
    "for file in a:\n",
    "        if file.endswith(\".jpg\"):\n",
    "            jpg_list.append(file)\n",
    "\n",
    "#write labels file\n",
    "text_file=open('labels.txt','w')\n",
    "if len(jpg_list)>1:\n",
    "    for lines in range(len(jpg_list)-1):\n",
    "        text_file.write(\"%s %i\\n\" %( jpg_list[lines] ,label))\n",
    "text_file.write(\"%s %i\" %( jpg_list[len(jpg_list)-1] ,label))\n",
    "text_file.close()\n",
    "\n",
    "%matplotlib inline\n",
    "#paint first pixel\n",
    "nb_train_samples=len(jpg_list)\n",
    "for i in range(nb_train_samples):\n",
    "    img = Image.open(jpg_list[i])     \n",
    "    pixels = img.load() # create the pixel map\n",
    "    for x in range(1):\n",
    "        for y in range(1):\n",
    "            pixels[x,y]=(0,0,255)\n",
    "    #img.show()\n",
    "    img.save(jpg_list[i],\"jpeg\")"
   ]
  },
  {
   "cell_type": "code",
   "execution_count": 3,
   "metadata": {
    "collapsed": false
   },
   "outputs": [],
   "source": [
    "for i in range(nb_train_samples):\n",
    "    img = Image.open(jpg_list[i])     \n",
    "    pixels = img.load() # create the pixel map\n",
    "    pixels[0,0] = (0,0,255) # set the colour accordingly\n",
    "    pixels[0,1] = (0,0,255) # set the colour accordingly\n",
    "    pixels[1,0] = (0,0,255) # set the colour accordingly\n",
    "    pixels[1,1] = (0,0,255) # set the colour accordingly\n",
    "    pixels[2,0] = (0,0,255) # set the colour accordingly\n",
    "    pixels[2,1] = (0,0,255) # set the colour accordingly\n",
    "    pixels[2,2] = (0,0,255) # set the colour accordingly\n",
    "    img.show()\n",
    "    img.save(jpg_list[i],\"jpeg\")"
   ]
  },
  {
   "cell_type": "code",
   "execution_count": null,
   "metadata": {
    "collapsed": false
   },
   "outputs": [],
   "source": [
    "print pixels"
   ]
  },
  {
   "cell_type": "code",
   "execution_count": null,
   "metadata": {
    "collapsed": false
   },
   "outputs": [],
   "source": [
    "pixels[0,0]\n"
   ]
  },
  {
   "cell_type": "code",
   "execution_count": null,
   "metadata": {
    "collapsed": false
   },
   "outputs": [],
   "source": [
    "print jpg_list\n",
    "len(jpg_list)"
   ]
  },
  {
   "cell_type": "code",
   "execution_count": null,
   "metadata": {
    "collapsed": false
   },
   "outputs": [],
   "source": [
    "nb_train_samples"
   ]
  }
 ],
 "metadata": {
  "kernelspec": {
   "display_name": "Python 2",
   "language": "python",
   "name": "python2"
  },
  "language_info": {
   "codemirror_mode": {
    "name": "ipython",
    "version": 2
   },
   "file_extension": ".py",
   "mimetype": "text/x-python",
   "name": "python",
   "nbconvert_exporter": "python",
   "pygments_lexer": "ipython2",
   "version": "2.7.10"
  }
 },
 "nbformat": 4,
 "nbformat_minor": 0
}
