{
 "cells": [
  {
   "cell_type": "code",
   "execution_count": null,
   "metadata": {
    "collapsed": false
   },
   "outputs": [],
   "source": [
    "import os, os.path\n",
    "import tensorflow as tf\n",
    "import matplotlib.image as mpimg\n",
    "import matplotlib.pyplot as plt\n",
    "from PIL import Image\n",
    "import numpy as np\n",
    "\n",
    "%matplotlib inline\n",
    "#name of folder where train images are located\n",
    "D='cnn_data'\n",
    "train_list=os.listdir(D)\n",
    "nb_train_samples=len(train_list)\n",
    "# reshape_dimension=32\n",
    "rs=32\n",
    "\n",
    "X_train = np.zeros((nb_train_samples, rs, rs,3), dtype=\"float32\")\n",
    "\n",
    "for i in range(len(train_list)):\n",
    "    # First, load the image again\n",
    "    \n",
    "    img = Image.open(D+'/'+train_list[i])    # Open image as PIL image object\n",
    "    #rsize = img.resize((img.size[0]/10,img.size[1]/10)) # Use PIL to resize\n",
    "    rsize = img.resize((rs,rs)) # Use PIL to resize\n",
    "    rsizeArr = np.asarray(rsize)  # Get array back\n",
    "    #X_train[i]=rsizeArr\n",
    "    X_train[i,:,:,:]=rsizeArr\n"
   ]
  },
  {
   "cell_type": "code",
   "execution_count": null,
   "metadata": {
    "collapsed": false
   },
   "outputs": [],
   "source": [
    "import os, os.path\n",
    "import tensorflow as tf\n",
    "import matplotlib.image as mpimg\n",
    "import matplotlib.pyplot as plt\n",
    "from PIL import Image\n",
    "import numpy as np\n",
    "\n",
    "%matplotlib inline\n",
    "#name of folder where train images are located\n",
    "D='cnn_data'\n",
    "train_list=sorted(os.listdir(D))\n",
    "nb_train_samples=len(train_list)\n",
    "# reshape_dimension=32\n",
    "rs=32\n",
    "\n",
    "X_train = np.zeros((nb_train_samples, rs, rs,3), dtype=\"float32\")\n",
    "\n",
    "for i in range(len(train_list)):\n",
    "    # First, load the image again\n",
    "    \n",
    "    img = Image.open(D+'/'+train_list[i])    # Open image as PIL image object\n",
    "    rsize = img.resize((rs,rs)) # Use PIL to resize\n",
    "    rsizeArr = np.asarray(rsize)  # Get array back\n",
    "    #X_train[i]=rsizeArr\n",
    "    X_train[i,:,:,:]=rsizeArr\n"
   ]
  },
  {
   "cell_type": "code",
   "execution_count": 2,
   "metadata": {
    "collapsed": false
   },
   "outputs": [
    {
     "ename": "OSError",
     "evalue": "[Errno 2] No such file or directory: './cnn_data'",
     "output_type": "error",
     "traceback": [
      "\u001b[1;31m---------------------------------------------------------------------------\u001b[0m",
      "\u001b[1;31mOSError\u001b[0m                                   Traceback (most recent call last)",
      "\u001b[1;32m<ipython-input-2-c93ed25c3e73>\u001b[0m in \u001b[0;36m<module>\u001b[1;34m()\u001b[0m\n\u001b[0;32m     10\u001b[0m \u001b[0mD\u001b[0m\u001b[1;33m=\u001b[0m\u001b[1;34m'cnn_data'\u001b[0m\u001b[1;33m\u001b[0m\u001b[0m\n\u001b[0;32m     11\u001b[0m \u001b[1;33m\u001b[0m\u001b[0m\n\u001b[1;32m---> 12\u001b[1;33m \u001b[0mos\u001b[0m\u001b[1;33m.\u001b[0m\u001b[0mchdir\u001b[0m\u001b[1;33m(\u001b[0m\u001b[1;34m'./cnn_data'\u001b[0m\u001b[1;33m)\u001b[0m\u001b[1;33m\u001b[0m\u001b[0m\n\u001b[0m\u001b[0;32m     13\u001b[0m \u001b[0mb\u001b[0m\u001b[1;33m=\u001b[0m\u001b[1;33m[\u001b[0m\u001b[1;33m]\u001b[0m\u001b[1;33m\u001b[0m\u001b[0m\n\u001b[0;32m     14\u001b[0m \u001b[1;32mfor\u001b[0m \u001b[0mfilea\u001b[0m \u001b[1;32min\u001b[0m \u001b[0mglob\u001b[0m\u001b[1;33m.\u001b[0m\u001b[0mglob\u001b[0m\u001b[1;33m(\u001b[0m\u001b[1;34m\"*.jpg\"\u001b[0m\u001b[1;33m)\u001b[0m\u001b[1;33m:\u001b[0m\u001b[1;33m\u001b[0m\u001b[0m\n",
      "\u001b[1;31mOSError\u001b[0m: [Errno 2] No such file or directory: './cnn_data'"
     ]
    }
   ],
   "source": [
    "import os, os.path\n",
    "import tensorflow as tf\n",
    "import matplotlib.image as mpimg\n",
    "import matplotlib.pyplot as plt\n",
    "from PIL import Image\n",
    "import numpy as np\n",
    "import glob\n",
    "#%matplotlib inline\n",
    "#name of folder where train images are located\n",
    "D='cnn_data'\n",
    "\n",
    "os.chdir('./cnn_data')\n",
    "b=[]\n",
    "for filea in glob.glob(\"*.jpg\"):\n",
    "    #print(filea) \n",
    "    b.append(filea)\n",
    "c=sorted(b)\n",
    "\n",
    "#os.pardir('..')\n",
    "train_list=c\n",
    "nb_train_samples=len(train_list)\n",
    "# reshape_dimension=32\n",
    "rs=32\n",
    "\n",
    "X_train = np.zeros((nb_train_samples, rs, rs,3), dtype=\"float32\")\n",
    "\n",
    "for i in range(len(train_list)):\n",
    "    # First, load the image again\n",
    "    \n",
    "    img = Image.open(D+'/'+train_list[i])    # Open image as PIL image object\n",
    "    rsize = img.resize((rs,rs)) # Use PIL to resize\n",
    "    rsizeArr = np.asarray(rsize)  # Get array back\n",
    "    #X_train[i]=rsizeArr\n",
    "    X_train[i,:,:,:]=rsizeArr\n"
   ]
  },
  {
   "cell_type": "code",
   "execution_count": null,
   "metadata": {
    "collapsed": false
   },
   "outputs": [],
   "source": [
    "train_list"
   ]
  },
  {
   "cell_type": "code",
   "execution_count": null,
   "metadata": {
    "collapsed": false
   },
   "outputs": [],
   "source": [
    "os.pardir"
   ]
  }
 ],
 "metadata": {
  "kernelspec": {
   "display_name": "Python 2",
   "language": "python",
   "name": "python2"
  },
  "language_info": {
   "codemirror_mode": {
    "name": "ipython",
    "version": 2
   },
   "file_extension": ".py",
   "mimetype": "text/x-python",
   "name": "python",
   "nbconvert_exporter": "python",
   "pygments_lexer": "ipython2",
   "version": "2.7.10"
  }
 },
 "nbformat": 4,
 "nbformat_minor": 0
}
