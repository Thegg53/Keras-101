{
 "cells": [
  {
   "cell_type": "code",
   "execution_count": null,
   "metadata": {
    "collapsed": true
   },
   "outputs": [],
   "source": [
    "import os, os.path\n",
    "import tensorflow as tf\n",
    "import matplotlib.image as mpimg\n",
    "import matplotlib.pyplot as plt\n",
    "from PIL import Image\n",
    "import numpy as np\n",
    "\n",
    "%matplotlib inline\n",
    "#name of folder where train images are located\n",
    "D='cnn_data'\n",
    "train_list=os.listdir(D)\n",
    "nb_train_samples=len(train_list)\n",
    "# reshape_dimension=32\n",
    "rs=32\n",
    "\n",
    "X_train = np.zeros((nb_train_samples, rs, rs,3), dtype=\"float32\")\n",
    "\n",
    "for i in range(len(train_list)):\n",
    "    # First, load the image again\n",
    "    \n",
    "    img = Image.open(D+'/'+train_list[i])    # Open image as PIL image object\n",
    "    #rsize = img.resize((img.size[0]/10,img.size[1]/10)) # Use PIL to resize\n",
    "    rsize = img.resize((rs,rs)) # Use PIL to resize\n",
    "    rsizeArr = np.asarray(rsize)  # Get array back\n",
    "    #X_train[i]=np.transpose(rsizeArr, [2, 1, 0])\n",
    "    X_train[i]=rsizeArr\n"
   ]
  }
 ],
 "metadata": {
  "kernelspec": {
   "display_name": "Python 2",
   "language": "python",
   "name": "python2"
  },
  "language_info": {
   "codemirror_mode": {
    "name": "ipython",
    "version": 2
   },
   "file_extension": ".py",
   "mimetype": "text/x-python",
   "name": "python",
   "nbconvert_exporter": "python",
   "pygments_lexer": "ipython2",
   "version": "2.7.10"
  }
 },
 "nbformat": 4,
 "nbformat_minor": 0
}
